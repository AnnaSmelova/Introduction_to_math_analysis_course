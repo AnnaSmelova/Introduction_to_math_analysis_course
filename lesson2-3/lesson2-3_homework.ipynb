{
 "cells": [
  {
   "cell_type": "markdown",
   "metadata": {},
   "source": [
    "**Автор: Анна Смелова**"
   ]
  },
  {
   "cell_type": "markdown",
   "metadata": {},
   "source": [
    "## Решение домашнего задания к уроку “Множество. Последовательность”"
   ]
  },
  {
   "cell_type": "markdown",
   "metadata": {},
   "source": [
    "### Тема “Введение в математических анализ”"
   ]
  },
  {
   "cell_type": "markdown",
   "metadata": {},
   "source": [
    "### 1. Задание\n",
    "#### Как относятся друг к другу множество и последовательность? (в ответе использовать слова типа: часть, целое, общее, частное, родитель, дочерний субъект и т.д.)"
   ]
  },
  {
   "cell_type": "markdown",
   "metadata": {},
   "source": [
    "**Ответ:**<br>\n",
    "Последовательность - набор элементов множества, в котором каждому натуральному числу соответствует элемент $\\Rightarrow$ Последовательность - это дочерний субъект множества"
   ]
  },
  {
   "cell_type": "markdown",
   "metadata": {},
   "source": [
    "### 2. Задание\n",
    "#### Прочитать высказывания математической логики, построить их отрицания и установить истинность.\n"
   ]
  },
  {
   "cell_type": "markdown",
   "metadata": {},
   "source": [
    "![title](l1th1t2.png)"
   ]
  },
  {
   "cell_type": "markdown",
   "metadata": {},
   "source": [
    "1. $\\forall y \\in [0;1]: sgn(y)=1$ <br>\n",
    "<font color='blue'>Для любого y из отрезка от нуля до единицы, значение функции sgn() равно 1.</font> <br>\n",
    "**Отрицание:** $\\exists y \\in [0;1]: sgn(y)\\neq 1$ <br>\n",
    "**Истинность исходного выражения:** неверно для граничной точки 0"
   ]
  },
  {
   "cell_type": "markdown",
   "metadata": {},
   "source": [
    "2. $\\forall n \\in \\mathbb{N}>2: \\exists x,y,z \\in \\mathbb{N}: x^n=y^n+z^n$ <br>\n",
    "<font color='blue'>Для любого натурального n больше двух, существуют такие три натуральных числа x, y и z, что выполнено равенство $x^n=y^n+z^n$.</font> <br>\n",
    "**Отрицание:** $\\exists n \\in \\mathbb{N}>2: \\forall x,y,z \\in \\mathbb{N}: x^n \\neq y^n+z^n$ <br>\n",
    "**Истинность исходного выражения:** неверно (теорема Ферма)"
   ]
  },
  {
   "cell_type": "markdown",
   "metadata": {},
   "source": [
    "3. $\\forall x \\in \\mathbb{R} \\exists X \\in \\mathbb{R}: X > x$ <br>\n",
    "<font color='blue'>Для любого действительного числа найдется такое подмножество множества действительных чисел, каждый элемент которого будет больше x.</font><br>\n",
    "**Отрицание:** $\\exists x \\in \\mathbb{R} \\forall X \\in \\mathbb{R}: X \\leq x$ <br>\n",
    "**Истинность исходного выражения:** верно"
   ]
  },
  {
   "cell_type": "markdown",
   "metadata": {},
   "source": [
    "4. $\\forall x \\in \\mathbb{C} \\nexists y \\in \\mathbb{C}: x > y || x < y$ <br>\n",
    "<font color='blue'>Для всех комплексных чисел x не существует комплексных чисел y, таких, что x больше y или x меньше y.</font><br>\n",
    "**Отрицание:** $\\exists x \\in \\mathbb{C} \\exists y \\in \\mathbb{C}: x \\leq y || x \\geq y$ <br>\n",
    "**Истинность исходного выражения:** верно (комплексные числа не подлежат сравнению)"
   ]
  },
  {
   "cell_type": "markdown",
   "metadata": {},
   "source": [
    "5. $\\forall y \\in [0; \\frac{\\pi}{2}] \\exists \\varepsilon > 0: \\sin{y} < \\sin{(y + \\varepsilon)}$ <br>\n",
    "<font color='blue'>Для всех y из отрезка $[0; \\frac{\\pi}{2}]$ существует $\\varepsilon$ больше нуля, такой, что выполнено неравенство $\\sin{y} < \\sin{(y + \\varepsilon)}$.</font><br>\n",
    "**Отрицание:** $\\exists y \\in [0; \\frac{\\pi}{2}] \\forall \\varepsilon \\leq 0: \\sin{y} \\geq \\sin{(y + \\varepsilon)}$ <br>\n",
    "**Истинность исходного выражения:** неверно для граничной точки $\\frac{\\pi}{2}$"
   ]
  },
  {
   "cell_type": "markdown",
   "metadata": {},
   "source": [
    "6. $\\forall y \\in [0; \\pi) \\exists \\varepsilon > 0: \\cos{y} > cos{(y + \\varepsilon)}$ <br>\n",
    "<font color='blue'>Для всех y из полуинтервала $[0; \\pi)$ существует $\\varepsilon$ больше нуля, такой, что выполнено неравенство $\\cos{y} > cos{(y + \\varepsilon)}$.</font><br>\n",
    "**Отрицание:** $\\exists y \\in [0; \\pi) \\forall \\varepsilon \\leq 0: \\cos{y} \\leq cos{(y + \\varepsilon)}$ <br>\n",
    "**Истинность исходного выражения:** верно"
   ]
  },
  {
   "cell_type": "markdown",
   "metadata": {},
   "source": [
    "7. $\\exists x: x \\notin \\{\\mathbb{N, Z, Q, R, C}\\}$ <br>\n",
    "<font color='blue'>Существует число x, не принадлежащее к множествам натуральных, целых, рациональных, вещественных и комплексных чисел.</font><br>\n",
    "**Отрицание:** $\\forall x: x \\in \\{\\mathbb{N, Z, Q, R, C}\\}$ <br>\n",
    "**Истинность исходного выражения:** верно (гиперкомплексные числа $x \\in \\{\\mathbb{H, O, S}\\}$)"
   ]
  },
  {
   "cell_type": "markdown",
   "metadata": {},
   "source": [
    "### Тема “Множество”"
   ]
  },
  {
   "cell_type": "markdown",
   "metadata": {},
   "source": [
    "### 1. Задание\n",
    "#### Даны три множества a,b и с. Необходимо выполнить все изученные виды бинарных операций над всеми комбинациями множеств."
   ]
  },
  {
   "cell_type": "markdown",
   "metadata": {},
   "source": [
    "**Пусть:** <br>\n",
    "$a = \\{1, 2, 3\\}$ <br>\n",
    "$b = \\{3, 4, 5, 6\\}$ <br>\n",
    "$c = \\{-1, 0, 1\\}$ <br>\n",
    "**Пересечение:** <br>\n",
    "$a \\cap b = \\{1, 2, 3\\} \\cap \\{3, 4, 5, 6\\} = \\{3\\}$ <br>\n",
    "$a \\cap c = \\{1, 2, 3\\} \\cap \\{-1, 0, 1\\} = \\{1\\}$ <br>\n",
    "$b \\cap c = \\{3, 4, 5, 6\\} \\cap \\{-1, 0, 1\\} = \\emptyset$ <br>\n",
    "$a \\cap b \\cap c = \\{1, 2, 3\\} \\cap \\{3, 4, 5, 6\\} \\cap \\{-1, 0, 1\\} = \\emptyset$ <br>\n",
    "**Объединение:** <br>\n",
    "$a \\cup b = \\{1, 2, 3\\} \\cup \\{3, 4, 5, 6\\} = \\{1, 2, 3, 4, 5, 6\\}$ <br>\n",
    "$a \\cup c = \\{1, 2, 3\\} \\cup \\{-1, 0, 1\\} = \\{-1, 0, 1, 2, 3\\}$ <br>\n",
    "$b \\cup c = \\{3, 4, 5, 6\\} \\cup \\{-1, 0, 1\\} = \\{-1, 0, 1, 3, 4, 5, 6\\}$ <br>\n",
    "$a \\cup b \\cup c = \\{1, 2, 3\\} \\cup \\{3, 4, 5, 6\\} \\cup \\{-1, 0, 1\\} = \\{-1, 0, 1, 2, 3, 4, 5, 6\\}$ <br>\n",
    "**Разность:** <br>\n",
    "$a \\setminus b = \\{1, 2, 3\\} \\setminus \\{3, 4, 5, 6\\} = \\{1, 2\\}$ <br>\n",
    "$b \\setminus a = \\{3, 4, 5, 6\\} \\setminus \\{1, 2, 3\\} = \\{4, 5, 6\\}$ <br>\n",
    "$a \\setminus c = \\{1, 2, 3\\} \\setminus \\{-1, 0, 1\\} = \\{2, 3\\}$ <br>\n",
    "$c \\setminus a = \\{-1, 0, 1\\} \\setminus \\{1, 2, 3\\} = \\{-1, 0\\}$ <br>\n",
    "$b \\setminus c = \\{3, 4, 5, 6\\} \\setminus \\{-1, 0, 1\\} = \\{3, 4, 5, 6\\}$ <br>\n",
    "$c \\setminus b = \\{-1, 0, 1\\} \\setminus \\{3, 4, 5, 6\\} = \\{-1, 0, 1\\}$ <br>\n",
    "**Симметрическая разность:** <br>\n",
    "$a \\bigtriangleup b = \\{1, 2, 3\\} \\bigtriangleup \\{3, 4, 5, 6\\} = \\{1, 2, 4, 5, 6\\}$ <br>\n",
    "$a \\bigtriangleup c = \\{1, 2, 3\\} \\bigtriangleup \\{-1, 0, 1\\} = \\{-1, 0, 2, 3\\}$ <br>\n",
    "$b \\bigtriangleup c = \\{3, 4, 5, 6\\} \\bigtriangleup \\{-1, 0, 1\\} = \\{-1, 0, 1, 3, 4, 5, 6\\}$ <br>\n",
    "$a \\bigtriangleup b \\bigtriangleup c = \\{1, 2, 3\\} \\bigtriangleup \\{3, 4, 5, 6\\} \\bigtriangleup \\{-1, 0, 1\\} = \\{-1, 0, 2, 4, 5, 6\\}$ <br>\n",
    "**Декартово произведение:** <br>\n",
    "$a \\times b = \\{1, 2, 3\\} \\times \\{3, 4, 5, 6\\} = \\{(1, 3), (2, 3), (3, 3), (1, 4), (2, 4), (3, 4), (1, 5), (2, 5), (3, 5), (1, 6), (2, 6), (3, 6)\\}$ <br>\n",
    "$a \\times c = \\{1, 2, 3\\} \\times \\{-1, 0, 1\\} = \\{(1, -1), (2, -1), (3, -1), (1, 0), (2, 0), (3, 0), (1, 1), (2, 1), (3, 1)\\}$ <br>\n",
    "$b \\times c = \\{3, 4, 5, 6\\} \\times \\{-1, 0, 1\\} = \\{(3, -1), (4, -1), (5, -1), (6, -1), (3, 0), (4, 0), (5, 0), (6, 0), (3, 1), (4, 1), (5, 1), (6, 1)\\}$ "
   ]
  },
  {
   "cell_type": "markdown",
   "metadata": {},
   "source": [
    "### 2. Задание\n",
    "#### *Выполнить задание 1 на языке Python"
   ]
  },
  {
   "cell_type": "code",
   "execution_count": 1,
   "metadata": {},
   "outputs": [
    {
     "name": "stdout",
     "output_type": "stream",
     "text": [
      "a = {1, 2, 3}, b = {3, 4, 5, 6}, c = {0, 1, -1}\n",
      "\n",
      "Пересечение a и b: {3}\n",
      "Пересечение a и c: {1}\n",
      "Пересечение b и c: set()\n",
      "Пересечение a, b и c: set()\n",
      "\n",
      "Объединение a и b: {1, 2, 3, 4, 5, 6}\n",
      "Объединение a и c: {0, 1, 2, 3, -1}\n",
      "Объединение b и c: {0, 1, 3, 4, 5, 6, -1}\n",
      "Объединение a, b и c: {0, 1, 2, 3, 4, 5, 6, -1}\n",
      "\n",
      "Разность a и b: {1, 2}\n",
      "Разность b и a: {4, 5, 6}\n",
      "Разность a и c: {2, 3}\n",
      "Разность c и a: {0, -1}\n",
      "Разность b и c: {3, 4, 5, 6}\n",
      "Разность c и b: {0, 1, -1}\n",
      "\n",
      "Симметрическая разность a и b: {1, 2, 4, 5, 6}\n",
      "Симметрическая разность a и c: {0, 2, 3, -1}\n",
      "Симметрическая разность b и c: {0, 1, 3, 4, 5, 6, -1}\n",
      "Симметрическая разность a, b и c: {0, 2, 4, 5, 6, -1}\n",
      "\n",
      "Декартово произведение a и b: {(1, 3), (2, 6), (3, 3), (1, 4), (1, 5), (1, 6), (2, 3), (3, 6), (2, 5), (3, 4), (2, 4), (3, 5)}\n",
      "Декартово произведение a и c: {(3, 0), (2, -1), (3, 1), (2, 1), (3, -1), (2, 0), (1, 0), (1, -1), (1, 1)}\n",
      "Декартово произведение b и c: {(5, -1), (3, 0), (6, 1), (3, 1), (6, 0), (3, -1), (6, -1), (5, 0), (5, 1), (4, 1), (4, -1), (4, 0)}\n"
     ]
    }
   ],
   "source": [
    "import itertools\n",
    "a = {1, 2, 3}\n",
    "b = {3, 4, 5, 6}\n",
    "c = {-1, 0, 1}\n",
    "print(f'a = {a}, b = {b}, c = {c}')\n",
    "print()\n",
    "print(f'Пересечение a и b: {a.intersection(b)}')\n",
    "print(f'Пересечение a и c: {a.intersection(c)}')\n",
    "print(f'Пересечение b и c: {b.intersection(c)}')\n",
    "print(f'Пересечение a, b и c: {a.intersection(b).intersection(c)}')\n",
    "print()\n",
    "print(f'Объединение a и b: {a.union(b)}')\n",
    "print(f'Объединение a и c: {a.union(c)}')\n",
    "print(f'Объединение b и c: {b.union(c)}')\n",
    "print(f'Объединение a, b и c: {a.union(b).union(c)}')\n",
    "print()\n",
    "print(f'Разность a и b: {a.difference(b)}')\n",
    "print(f'Разность b и a: {b.difference(a)}')\n",
    "print(f'Разность a и c: {a.difference(c)}')\n",
    "print(f'Разность c и a: {c.difference(a)}')\n",
    "print(f'Разность b и c: {b.difference(c)}')\n",
    "print(f'Разность c и b: {c.difference(b)}')\n",
    "print()\n",
    "print(f'Симметрическая разность a и b: {a.symmetric_difference(b)}')\n",
    "print(f'Симметрическая разность a и c: {a.symmetric_difference(c)}')\n",
    "print(f'Симметрическая разность b и c: {b.symmetric_difference(c)}')\n",
    "print(f'Симметрическая разность a, b и c: {a.symmetric_difference(b).symmetric_difference(c)}')\n",
    "print()\n",
    "print(f'Декартово произведение a и b: {set(itertools.product(*[a,b]))}')\n",
    "print(f'Декартово произведение a и c: {set(itertools.product(*[a,c]))}')\n",
    "print(f'Декартово произведение b и c: {set(itertools.product(*[b,c]))}')"
   ]
  },
  {
   "cell_type": "markdown",
   "metadata": {},
   "source": [
    "### Тема “Последовательность”"
   ]
  },
  {
   "cell_type": "markdown",
   "metadata": {},
   "source": [
    "### 1. Задание\n",
    "#### Даны 4 последовательности. Необходимо:\n",
    " a. исследовать их на монотонность;<br> \n",
    " b. исследовать на ограниченность;<br>\n",
    " c. найти пятый по счету член."
   ]
  },
  {
   "cell_type": "code",
   "execution_count": 2,
   "metadata": {},
   "outputs": [],
   "source": [
    "import numpy as np\n",
    "from matplotlib import pyplot as plt\n",
    "%matplotlib inline\n",
    "\n",
    "def plot_seq(n, a, title, color):\n",
    "    plt.figure(figsize=(10,5))\n",
    "    plt.scatter(n, a, c=color)\n",
    "    plt.title(title)\n",
    "    plt.xlabel('n')\n",
    "    plt.ylabel('a_n')\n",
    "    plt.grid()\n",
    "    plt.show()"
   ]
  },
  {
   "cell_type": "markdown",
   "metadata": {},
   "source": [
    "$$\\{a_n\\}_{n=1}^{\\infty}=2^n-n$$"
   ]
  },
  {
   "cell_type": "code",
   "execution_count": 3,
   "metadata": {},
   "outputs": [
    {
     "data": {
      "image/png": "[encoded data removed]",
      "text/plain": [
       "<Figure size 720x360 with 1 Axes>"
      ]
     },
     "metadata": {
      "needs_background": "light"
     },
     "output_type": "display_data"
    }
   ],
   "source": [
    "n = np.linspace(1, 1000, 1000)\n",
    "plot_seq(n,2**n-n,'1','g')"
   ]
  },
  {
   "cell_type": "markdown",
   "metadata": {},
   "source": [
    "**a. Монотонность:** $a_{n+1}-a_n=2^{n+1}-(n+1)-(2^n-n)=2^{n+1}-2^n-n-1+n=2^n(2-1)-1=2^n-1>0$ при $n \\in [1,\\infty) \\Rightarrow$ последовательность возрастающая. <br>\n",
    "**b. Ограниченность:** $a_1=1$, т.к. последовательность возрастающая, то она ограничена снизу 1. Т.к. $2^n$ растет сильно быстрее, чем $n$, то исходная последовательность не ограничена сверху. <br>\n",
    "**c. Пятый по счету член:** $a_5=2^5-5=32-5=27$."
   ]
  },
  {
   "cell_type": "markdown",
   "metadata": {},
   "source": [
    "$$\\{b_n\\}_{n=2}^{\\infty}=\\frac{1}{1-n}$$"
   ]
  },
  {
   "cell_type": "code",
   "execution_count": 4,
   "metadata": {},
   "outputs": [
    {
     "data": {
      "image/png": "[encoded data removed]",
      "text/plain": [
       "<Figure size 720x360 with 1 Axes>"
      ]
     },
     "metadata": {
      "needs_background": "light"
     },
     "output_type": "display_data"
    }
   ],
   "source": [
    "n = np.linspace(2, 1000, 999)\n",
    "plot_seq(n,1/(1-n),'2','g')"
   ]
  },
  {
   "cell_type": "markdown",
   "metadata": {},
   "source": [
    "**a. Монотонность:** $b_{n+1}-b_n=\\frac{1}{1-(n+1)}-\\frac{1}{1-n}=\\frac{1}{-n}-\\frac{1}{1-n}=\\frac{1}{n-1}-\\frac{1}{n}=\\frac{n-(n-1)}{n(n-1)}=\\frac{1}{n^2-n}=\\frac{1}{n}\\frac{1}{n-1}>0$ при $n \\in [2,\\infty) \\Rightarrow$ последовательность возрастающая. <br>\n",
    "**b. Ограниченность:** $b_2=-1$, т.к. последовательность возрастающая, то она ограничена снизу -1. Также последовательность ограничена 0 сверху. <br>\n",
    "**c. Пятый по счету член:** $b_5=\\frac{1}{1-6}=\\frac{1}{-5}=-0.2$ (т.к. n начинается с 2, а не с 1)."
   ]
  },
  {
   "cell_type": "markdown",
   "metadata": {},
   "source": [
    "$$\\{c_n\\}_{n=1}^{\\infty}={-1}^n+\\sqrt{2n}$$"
   ]
  },
  {
   "cell_type": "code",
   "execution_count": 5,
   "metadata": {},
   "outputs": [
    {
     "data": {
      "image/png": "[encoded data removed]",
      "text/plain": [
       "<Figure size 720x360 with 1 Axes>"
      ]
     },
     "metadata": {
      "needs_background": "light"
     },
     "output_type": "display_data"
    }
   ],
   "source": [
    "n = np.linspace(1, 1000, 1000)\n",
    "plot_seq(n,(-1)**n+(2*n)**(0.5),'3','g')"
   ]
  },
  {
   "cell_type": "markdown",
   "metadata": {},
   "source": [
    "**a. Монотонность:** $c_{n+1}-c_n=-1^{n+1}+\\sqrt{2(n+1)}-(-1^n+\\sqrt{2n})=-1^{n}(-1)-(-1^n)+\\sqrt{2(n+1)}-\\sqrt{2n}=-2(-1^n)+\\sqrt{2(n+1)}-\\sqrt{2n}<0$ при $n \\in [1,\\infty)$ и четных $n$ и $>0$ при нечетных $n$ $\\Rightarrow$ последовательность не является ни возрастающей, ни убывающей (я бы назвала ее \"осциллирующей\", если так можно сказать).<br>\n",
    "**b. Ограниченность:** $c_1=-1+\\sqrt{2}$, $c_2=3$, $c_3=-1+\\sqrt{6}$, $c_4=2\\sqrt{2}+1$ Несмотря на то, что значения членов последовательность \"прыгают\" то вверх, то вниз, $c_{n+2}>c_n$ и $c_{n+3}>c_{n+1}$, т.е. последовательность можно как бы разбить на две возрастающие подпоследовательности(видно на графике) $\\Rightarrow$ глобально значения членов последовательности увеличиваются $\\Rightarrow$ исходная последовательность ограничена снизу $\\sqrt{2}-1$ и не ограничена сверху.<br>\n",
    "**c. Пятый по счету член:** $c_5=-1^5+\\sqrt(2*5)=\\sqrt{10}-1$."
   ]
  },
  {
   "cell_type": "markdown",
   "metadata": {},
   "source": [
    "$$\\{d_n\\}_{n=1}^{\\infty}={-1}^{2n}+\\frac{1}{n^2}$$"
   ]
  },
  {
   "cell_type": "code",
   "execution_count": 6,
   "metadata": {},
   "outputs": [
    {
     "data": {
      "image/png": "[encoded data removed]",
      "text/plain": [
       "<Figure size 720x360 with 1 Axes>"
      ]
     },
     "metadata": {
      "needs_background": "light"
     },
     "output_type": "display_data"
    }
   ],
   "source": [
    "n = np.linspace(1, 1000, 1000)\n",
    "plot_seq(n,(-1)**(2*n)+1/(n*n),'4','g')"
   ]
  },
  {
   "cell_type": "markdown",
   "metadata": {},
   "source": [
    "**a. Монотонность:** $d_{n+1}-d_n=-1^{2(n+1)}+\\frac{1}{(n+1)^2}-(-1^{2n}+\\frac{1}{n^2})=\\frac{1}{(n+1)^2}-\\frac{1}{n^2}=\\frac{n^2-(n+1)^2}{n^2(n+1)^2}=\\frac{n^2-n^2-2n-1}{n^2(n+1)^2}=-\\frac{2n+1}{n^2(n+1)^2}<0$ при $n \\in [1,\\infty) \\Rightarrow$ последовательность убывающая. <br>\n",
    "**b. Ограниченность:** $d_1=2$, т.к. последовательность убывающая, то она ограничена сверху 2. Т.к. $d_n=-1^{2n}+\\frac{1}{n^2}=\\frac{n^2+1}{n^2}>0 \\forall n$, то последовательность ограничена снизу 0. <br>\n",
    "**c. Пятый по счету член:** $d_5=-1^{2*5}+\\frac{1}{5^2}=1+\\frac{1}{25}=\\frac{26}{25}=1.04$."
   ]
  },
  {
   "cell_type": "markdown",
   "metadata": {},
   "source": [
    "### 2. Задание\n",
    "#### Найти 12-й член заданной неявно последовательности"
   ]
  },
  {
   "cell_type": "markdown",
   "metadata": {},
   "source": [
    "$$a_1=128;a_{n+1}-a_n=6$$"
   ]
  },
  {
   "cell_type": "markdown",
   "metadata": {},
   "source": [
    "**Решение:** $a_{n+1} = a_n + 6$"
   ]
  },
  {
   "cell_type": "code",
   "execution_count": 7,
   "metadata": {},
   "outputs": [
    {
     "name": "stdout",
     "output_type": "stream",
     "text": [
      "{1: 128, 2: 134, 3: 140, 4: 146, 5: 152, 6: 158, 7: 164, 8: 170, 9: 176, 10: 182, 11: 188, 12: 194}\n",
      "12-й член последовательности равен 194\n"
     ]
    }
   ],
   "source": [
    "d = {}\n",
    "d[1] = 128\n",
    "for i in range(1,12):\n",
    "    i += 1\n",
    "    d[i] = d[i - 1] + 6\n",
    "print(d)\n",
    "print(f'12-й член последовательности равен {d[12]}')"
   ]
  },
  {
   "cell_type": "markdown",
   "metadata": {},
   "source": [
    "**Ответ:** 194."
   ]
  },
  {
   "cell_type": "markdown",
   "metadata": {},
   "source": [
    "### 3. Задание\n",
    "#### *На языке Python предложить алгоритм вычисляющий численно предел с точностью $\\varepsilon=10^{-7}$"
   ]
  },
  {
   "cell_type": "markdown",
   "metadata": {},
   "source": [
    "$$\\lim_{n\\to+\\infty}\\frac{n}{\\sqrt[n]{n!}}$$"
   ]
  },
  {
   "cell_type": "code",
   "execution_count": 8,
   "metadata": {},
   "outputs": [
    {
     "name": "stdout",
     "output_type": "stream",
     "text": [
      "1000 0.000010472146180777131958378 2.706421007184342557277141577\n",
      "2000 0.000002859327469086192613444 2.711875018209429156052116326\n",
      "3000 0.000001333027694301686930710 2.713825554813455272683974315\n",
      "4000 7.74565761952716316300E-7 2.714841314428223173110228344\n",
      "5000 5.07975472250971495424E-7 2.715468476345699207309010195\n",
      "6000 3.59703133877890200831E-7 2.715895903158288476553578591\n",
      "7000 2.68579564757467224776E-7 2.716206714467579548701815152\n",
      "8000 2.08485977410770020252E-7 2.716443346816620442398647810\n",
      "9000 1.66717979736027547907E-7 2.716629785153760260466919320\n",
      "10000 1.36481499695707106743E-7 2.716780632436130643035174488\n",
      "11000 1.13870679793921831847E-7 2.716905300301416414503683182\n",
      "12000 9.6508161008163630043E-8 2.717010134027562283324509418\n",
      "\n",
      "Значение предела: 2.717010134027562283324509418, точность 9.6508161008163630043E-8, достигнута при n=12000\n"
     ]
    }
   ],
   "source": [
    "# шаг n += 1000 для ускорения вычисления\n",
    "\n",
    "FACTORIAL_DICT = {0:1, 1:1}  # глобальная переменная со значениями факториалов \n",
    "from decimal import Decimal\n",
    "\n",
    "\n",
    "# Функция вычисляет факториал n\n",
    "# В случае, когда в глобальной переменной FACTORIAL_DICT нет требуемого значения, смотрит предыдущее значение с шагом 1000\n",
    "# и записывает в FACTORIAL_DICT два следующих соседних значения\n",
    "def get_factorial(n):\n",
    "    if n in FACTORIAL_DICT.keys():\n",
    "        return FACTORIAL_DICT[n]\n",
    "    else:\n",
    "        res = get_factorial(n - 1000)\n",
    "        for i in range(1000):\n",
    "            res = res * (n - i)\n",
    "        FACTORIAL_DICT[n] = res\n",
    "        FACTORIAL_DICT[n+1] = res * (n + 1)\n",
    "        return res\n",
    "\n",
    "\n",
    "# Функция возвращает значение последовательности для переданного n\n",
    "def get_func(n):\n",
    "    ch = n\n",
    "    zn = Decimal(get_factorial(n))**Decimal(1 / n)\n",
    "    return ch / zn\n",
    "\n",
    "\n",
    "eps = 10**(-7)  # требуемая точность\n",
    "k = 1  # текущая точность\n",
    "n = 0  # текущий элемент последовательности\n",
    "a = 1 # текущее значение предела \n",
    "while True:\n",
    "    n = n + 1000\n",
    "    a_prev = get_func(n)\n",
    "    a_next = get_func(n+1)\n",
    "    k = a_next - a_prev\n",
    "    a = a_prev\n",
    "    if n%1000==0:\n",
    "        print(n, k, a)\n",
    "    if k < eps:\n",
    "        break\n",
    "print()\n",
    "print(f'Значение предела: {a}, точность {k}, достигнута при n={n}')"
   ]
  },
  {
   "cell_type": "markdown",
   "metadata": {},
   "source": [
    "### 4. Задание\n",
    "#### *Предложить оптимизацию алгоритма, полученного в задании 3, ускоряющую его сходимость."
   ]
  },
  {
   "cell_type": "markdown",
   "metadata": {},
   "source": [
    "В качестве оптимизации используем формулу Стирлинга: <br>\n",
    "$$\\lim_{n\\to+\\infty}\\frac{n!}{\\sqrt{2\\pi n}(\\frac{n}{e})^n}=1$$ <br>\n",
    "То есть, при $n\\to+\\infty$ можно заменить значение факториала на $n! \\sim \\sqrt{2\\pi n}(\\frac{n}{e})^n$"
   ]
  },
  {
   "cell_type": "code",
   "execution_count": 9,
   "metadata": {},
   "outputs": [
    {
     "name": "stdout",
     "output_type": "stream",
     "text": [
      "500 0.000037963508197388786702666 2.696518761907988072408942547\n",
      "1000 0.000010471696657160350161904 2.706431704416085307316210170\n",
      "1500 0.000004905711546918484590577 2.710007613790310360533554111\n",
      "2000 0.000002859271073503598263545 2.711877933977898767504266886\n",
      "2500 0.000001879299767332423404369 2.713036013687631967121974644\n",
      "3000 0.000001333010962971919768341 2.713826912952432301723213846\n",
      "3500 9.96680708741664745924E-7 2.714402960073219010607005563\n",
      "4000 7.74558698715491793147E-7 2.714842103126720185883070916\n",
      "4500 6.19985783689028383095E-7 2.715188477269692539601588747\n",
      "5000 5.07971854388365535887E-7 2.715468993369115047593981340\n",
      "5500 4.24132019388461404719E-7 2.715701017167209789747360643\n",
      "6000 3.59701039901461808637E-7 2.715896269146124088857867670\n",
      "6500 3.09085761828472949112E-7 2.716062953183203874115221804\n",
      "7000 2.68578245417025036777E-7 2.716206987665224097745531059\n",
      "7500 2.35640067233066606704E-7 2.716332752187385536816042017\n",
      "8000 2.08485093788659958460E-7 2.716443558838749616416797691\n",
      "8500 1.85826399370367155904E-7 2.716541959898248660561303245\n",
      "9000 1.66717358729462685683E-7 2.716629954666005610684103878\n",
      "9500 1.50448859337173298236E-7 2.716709132065975869959065391\n",
      "10000 1.36481047240276158713E-7 2.716780771181161604843020985\n",
      "10500 1.24396964231695550267E-7 2.716845913544343153021041199\n",
      "11000 1.13870339855373569218E-7 2.716905416042902909934111464\n",
      "11500 1.04642885829757598208E-7 2.716959990253507182987608691\n",
      "12000 9.6507899452450936358E-8 2.717010232107805200483324524\n",
      "\n",
      "Значение предела: 2.717010232107805200483324524, точность 9.6507899452450936358E-8, достигнута при n=12000\n"
     ]
    }
   ],
   "source": [
    "from decimal import Decimal\n",
    "import math\n",
    "\n",
    "\n",
    "# Здесь используем формулу Стирлинга\n",
    "def get_factorial(n):\n",
    "    return ((Decimal(n / math.e))**Decimal(n)) * Decimal((math.pi * 2 * n)**0.5)\n",
    "\n",
    "    \n",
    "def get_func(n):\n",
    "    ch = n\n",
    "    zn = Decimal(get_factorial(n))**Decimal(1 / n)\n",
    "    return ch / zn\n",
    "\n",
    "\n",
    "eps = 10**(-7)\n",
    "k = 1\n",
    "n = 0\n",
    "a = 1\n",
    "while True:\n",
    "    n = n + 500\n",
    "    a_prev = get_func(n)\n",
    "    a_next = get_func(n+1)\n",
    "    k = a_next - a_prev\n",
    "    a = a_next\n",
    "    if n%500==0:\n",
    "        print(n, k, a)\n",
    "    if k < eps:\n",
    "        break\n",
    "print()\n",
    "print(f'Значение предела: {a}, точность {k}, достигнута при n={n}')"
   ]
  },
  {
   "cell_type": "code",
   "execution_count": null,
   "metadata": {},
   "outputs": [],
   "source": []
  }
 ],
 "metadata": {
  "kernelspec": {
   "display_name": "Python 3",
   "language": "python",
   "name": "python3"
  },
  "language_info": {
   "codemirror_mode": {
    "name": "ipython",
    "version": 3
   },
   "file_extension": ".py",
   "mimetype": "text/x-python",
   "name": "python",
   "nbconvert_exporter": "python",
   "pygments_lexer": "ipython3",
   "version": "3.7.3"
  }
 },
 "nbformat": 4,
 "nbformat_minor": 4
}
