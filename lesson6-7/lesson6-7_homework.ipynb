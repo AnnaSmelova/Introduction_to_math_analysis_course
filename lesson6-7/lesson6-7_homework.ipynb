{
 "cells": [
  {
   "cell_type": "markdown",
   "metadata": {},
   "source": [
    "**Автор: Анна Смелова**"
   ]
  },
  {
   "cell_type": "markdown",
   "metadata": {},
   "source": [
    "## Решение домашнего задания к уроку “Производная функции одной переменной”"
   ]
  },
  {
   "cell_type": "code",
   "execution_count": 1,
   "metadata": {},
   "outputs": [],
   "source": [
    "import numpy as np\n",
    "from matplotlib import pyplot as plt\n",
    "from math import pi,sqrt,sin,cos,log,atan,degrees\n",
    "import sympy as sym\n",
    "import warnings\n",
    "\n",
    "warnings.filterwarnings('ignore')\n",
    "%matplotlib inline\n",
    "\n",
    "x = sym.symbols('x')"
   ]
  },
  {
   "cell_type": "markdown",
   "metadata": {},
   "source": [
    "### Тема “Понятие о производной”"
   ]
  },
  {
   "cell_type": "markdown",
   "metadata": {},
   "source": [
    "### 1. Задание\n",
    "#### Найти производную выражения:"
   ]
  },
  {
   "cell_type": "markdown",
   "metadata": {},
   "source": [
    "$$a.\\sin{x}\\cdot\\cos{x}$$"
   ]
  },
  {
   "cell_type": "markdown",
   "metadata": {},
   "source": [
    "**<font color='darkblue'>Аналитическое решение:</font>**<br>\n",
    "$f(x)=\\sin{x}\\cdot\\cos{x}$<br>\n",
    "$f'(x)=(\\sin{x})'\\cdot\\cos{x}+\\sin{x}\\cdot(\\cos{x})'=\\cos{x}^2-\\sin{x}^2=\\cos{2x}$"
   ]
  },
  {
   "cell_type": "code",
   "execution_count": 2,
   "metadata": {},
   "outputs": [
    {
     "name": "stdout",
     "output_type": "stream",
     "text": [
      "f'(x)=cos(2*x)\n"
     ]
    }
   ],
   "source": [
    "# Численное решение\n",
    "f = sym.sin(x)*sym.cos(x)\n",
    "df = sym.diff(f, x)\n",
    "print(f\"f'(x)={sym.simplify(df)}\")"
   ]
  },
  {
   "cell_type": "markdown",
   "metadata": {},
   "source": [
    "**<font color='darkblue'>Ответ: $\\cos{2x}$</font>**"
   ]
  },
  {
   "cell_type": "markdown",
   "metadata": {},
   "source": [
    "$$b.\\ln{(2x+1)^3}$$"
   ]
  },
  {
   "cell_type": "markdown",
   "metadata": {},
   "source": [
    "**<font color='darkblue'>Аналитическое решение:</font>**<br>\n",
    "$f(x)=\\ln{(2x+1)^3}$<br>\n",
    "$f'(x)=3\\cdot(2x+1)^{2}\\cdot2\\cdot\\frac{1}{(2x+1)^3}=\\frac{6}{2x+1}$"
   ]
  },
  {
   "cell_type": "code",
   "execution_count": 3,
   "metadata": {},
   "outputs": [
    {
     "name": "stdout",
     "output_type": "stream",
     "text": [
      "f'(x)=6/(2*x + 1)\n"
     ]
    }
   ],
   "source": [
    "# Численное решение\n",
    "f = sym.ln((2*x+1)**3)\n",
    "df = sym.diff(f, x)\n",
    "print(f\"f'(x)={sym.simplify(df)}\")"
   ]
  },
  {
   "cell_type": "markdown",
   "metadata": {},
   "source": [
    "**<font color='darkblue'>Ответ: $\\frac{6}{2x+1}$</font>**"
   ]
  },
  {
   "cell_type": "markdown",
   "metadata": {},
   "source": [
    "$$c.\\sqrt{\\sin^2{(\\ln{(x^3)})}}$$"
   ]
  },
  {
   "cell_type": "markdown",
   "metadata": {},
   "source": [
    "**<font color='darkblue'>Аналитическое решение:</font>**<br>\n",
    "$f(x)=\\sqrt{\\sin^2{(\\ln{(x^3)})}}$<br>\n",
    "$f'(x)=((\\sin^2{(\\ln{(x^3)})})^{\\frac{1}{2}})'=\\frac{1}{2}\\cdot(\\sin^2{(\\ln{(x^3)})})^{-\\frac{1}{2}}\\cdot2\\sin{(\\ln{(x^3)})}\\cdot\\cos{(\\ln{(x^3)})}\\cdot\\frac{1}{x^3}\\cdot3x^2=\\frac{3\\cdot\\cos{(\\ln{(x^3)})}\\cdot\\sin{(\\ln{(x^3)})}}{x\\cdot\\sqrt{\\sin^2{(\\ln{(x^3)})}}}=\\frac{3\\cdot\\cos{(\\ln{(x^3)})}\\cdot\\sin{(\\ln{(x^3)})}\\cdot\\sqrt{\\sin^2{(\\ln{(x^3)})}}}{x\\cdot\\sin^2{\\ln{(x^3)}}}=\\frac{3\\cdot\\cos{(\\ln{(x^3)})}\\cdot\\sqrt{\\sin^2{(\\ln{(x^3)})}}}{x\\cdot\\sin{(\\ln{(x^3)})}}=\\frac{3\\cdot\\sqrt{\\sin^2{(\\ln{(x^3)})}}}{x\\cdot tg(\\ln{(x^3))}}$"
   ]
  },
  {
   "cell_type": "code",
   "execution_count": 4,
   "metadata": {},
   "outputs": [
    {
     "name": "stdout",
     "output_type": "stream",
     "text": [
      "f'(x)=3*sqrt(sin(log(x**3))**2)/(x*tan(log(x**3)))\n"
     ]
    }
   ],
   "source": [
    "# Численное решение\n",
    "f = sym.sqrt((sym.sin(sym.ln(x**3)))**2)\n",
    "df = sym.diff(f, x)\n",
    "print(f\"f'(x)={sym.simplify(df)}\")"
   ]
  },
  {
   "cell_type": "markdown",
   "metadata": {},
   "source": [
    "**<font color='darkblue'>Ответ: $\\frac{3\\cdot\\sqrt{\\sin^2{(\\ln{(x^3)})}}}{x\\cdot tg(\\ln{(x^3))}}$</font>**"
   ]
  },
  {
   "cell_type": "markdown",
   "metadata": {},
   "source": [
    "$$d.\\frac{x^4}{\\ln{(x)}}$$"
   ]
  },
  {
   "cell_type": "markdown",
   "metadata": {},
   "source": [
    "**<font color='darkblue'>Аналитическое решение:</font>**<br>\n",
    "$f(x)=\\frac{x^4}{\\ln{(x)}}$<br>\n",
    "$f'(x)=\\frac{(x^4)'\\cdot\\ln{(x)}-x^4\\cdot(\\ln{(x)})'}{\\ln^2{(x)}}=\\frac{4\\cdot x^3\\cdot\\ln{(x)}-\\frac{x^4}{x}}{\\ln^2{(x)}}=\\frac{x^3\\cdot(4\\ln{(x)}-1)}{\\ln^2{(x)}}$"
   ]
  },
  {
   "cell_type": "code",
   "execution_count": 5,
   "metadata": {},
   "outputs": [
    {
     "name": "stdout",
     "output_type": "stream",
     "text": [
      "f'(x)=x**3*(4*log(x) - 1)/log(x)**2\n"
     ]
    }
   ],
   "source": [
    "# Численное решение\n",
    "f = x**4 / sym.ln(x)\n",
    "df = sym.diff(f, x)\n",
    "print(f\"f'(x)={sym.simplify(df)}\")"
   ]
  },
  {
   "cell_type": "markdown",
   "metadata": {},
   "source": [
    "**<font color='darkblue'>Ответ: $\\frac{x^3\\cdot(4\\ln{(x)}-1)}{\\ln^2{(x)}}$</font>**"
   ]
  },
  {
   "cell_type": "markdown",
   "metadata": {},
   "source": [
    "### 2. Задание\n",
    "#### Найти выражение производной функции и ее значение в точке:"
   ]
  },
  {
   "cell_type": "markdown",
   "metadata": {},
   "source": [
    "$$f(x)=\\cos{(x^2+3x)},x_0=\\sqrt{\\pi}$$"
   ]
  },
  {
   "cell_type": "markdown",
   "metadata": {},
   "source": [
    "**<font color='darkblue'>Аналитическое решение:</font>**<br>\n",
    "$f(x)=\\cos{(x^2+3x)}$<br>\n",
    "$f'(x)=-\\sin{(x^2+3x)}\\cdot(2x+3)$<br>\n",
    "$f'(x_0)=f'(\\sqrt{\\pi})=-(2\\sqrt{\\pi}+3)\\cdot\\sin{(\\pi+3\\sqrt{\\pi})}=(2\\sqrt{\\pi}+3)\\cdot\\sin{(3\\sqrt{\\pi})}$"
   ]
  },
  {
   "cell_type": "code",
   "execution_count": 6,
   "metadata": {},
   "outputs": [
    {
     "name": "stdout",
     "output_type": "stream",
     "text": [
      "f'(x)=-(2*x + 3)*sin(x*(x + 3))\n"
     ]
    }
   ],
   "source": [
    "# Численное решение\n",
    "f = sym.cos(x**2+3*x)\n",
    "df = sym.diff(f, x)\n",
    "print(f\"f'(x)={sym.simplify(df)}\")"
   ]
  },
  {
   "cell_type": "code",
   "execution_count": 7,
   "metadata": {},
   "outputs": [
    {
     "name": "stdout",
     "output_type": "stream",
     "text": [
      "Значение производной в точке sqrt(pi): -5.383302410890619\n"
     ]
    }
   ],
   "source": [
    "def func_2(t):\n",
    "    return -(2*t+3)*sin(t**2+3*t)\n",
    "print(f'Значение производной в точке sqrt(pi): {func_2(sqrt(pi))}')"
   ]
  },
  {
   "cell_type": "markdown",
   "metadata": {},
   "source": [
    "**<font color='darkblue'>Ответ: $-\\sin{(x^2+3x)}\\cdot(2x+3);(2\\sqrt{\\pi}+3)\\cdot\\sin{(3\\sqrt{\\pi})}\\approx-5.383302410890619$</font>**"
   ]
  },
  {
   "cell_type": "markdown",
   "metadata": {},
   "source": [
    "### 3. Задание\n",
    "#### $^*$ Найти значение производной функции в точке:"
   ]
  },
  {
   "cell_type": "markdown",
   "metadata": {},
   "source": [
    "$$f(x)=\\frac{x^3-x^2-x-1}{1+2x+3x^2-4x^3},x_0=0$$"
   ]
  },
  {
   "cell_type": "markdown",
   "metadata": {},
   "source": [
    "**<font color='darkblue'>Аналитическое решение:</font>**<br>\n",
    "$f(x)=\\frac{x^3-x^2-x-1}{1+2x+3x^2-4x^3}$<br>\n",
    "$f'(x)=\\frac{(x^3-x^2-x-1)'\\cdot(1+2x+3x^2-4x^3)-(x^3-x^2-x-1)\\cdot(1+2x+3x^2-4x^3)'}{(1+2x+3x^2-4x^3)^2}=\\frac{(3x^2-2x-1)\\cdot(1+2x+3x^2-4x^3)-(x^3-x^2-x-1)\\cdot(12x^2-6x-2)}{(1+2x+3x^2-4x^3)^2}=\\frac{-12x^5+9x^4+6x^3+3x^2+8x^4-6x^3-4x^2-2x+4x^3-3x^2-2x-1+12x^5-6x^4-2x^3-12x^4+6x^3+2x^2-12x^3+6x^2+2x-12x^2+6x+2}{(1+2x+3x^2-4x^3)^2}=\\frac{-x^4-4x^3-8x^2+4x+1}{(1+2x+3x^2-4x^3)^2}$<br>\n",
    "$f'(x_0)=f'(0)=\\frac{1}{1}=1$"
   ]
  },
  {
   "cell_type": "code",
   "execution_count": 8,
   "metadata": {},
   "outputs": [
    {
     "name": "stdout",
     "output_type": "stream",
     "text": [
      "f'(x)=(-x**4 - 4*x**3 - 8*x**2 + 4*x + 1)/(16*x**6 - 24*x**5 - 7*x**4 + 4*x**3 + 10*x**2 + 4*x + 1)\n"
     ]
    }
   ],
   "source": [
    "# Численное решение\n",
    "f = (x**3 - x**2 - x - 1) / (1 + 2*x + 3*x**2 - 4*x**3)\n",
    "df = sym.diff(f, x)\n",
    "print(f\"f'(x)={sym.simplify(df)}\")"
   ]
  },
  {
   "cell_type": "code",
   "execution_count": 9,
   "metadata": {},
   "outputs": [
    {
     "name": "stdout",
     "output_type": "stream",
     "text": [
      "Значение производной в точке 0: 1.0\n"
     ]
    }
   ],
   "source": [
    "def func_3(t):\n",
    "    return (-t**4 - 4*t**3 - 8*t**2 + 4*t + 1)/(16*t**6 - 24*t**5 - 7*t**4 + 4*t**3 + 10*t**2 + 4*t + 1)\n",
    "print(f'Значение производной в точке 0: {func_3(0)}')"
   ]
  },
  {
   "cell_type": "markdown",
   "metadata": {},
   "source": [
    "**<font color='darkblue'>Ответ: $1$</font>**"
   ]
  },
  {
   "cell_type": "markdown",
   "metadata": {},
   "source": [
    "### 4. Задание\n",
    "#### Найти угол наклона касательной к графику функции в точке:"
   ]
  },
  {
   "cell_type": "markdown",
   "metadata": {},
   "source": [
    "$$f(x)=\\sqrt{3x}\\cdot\\ln{x},x_0=1$$"
   ]
  },
  {
   "cell_type": "markdown",
   "metadata": {},
   "source": [
    "**<font color='darkblue'>Аналитическое решение:</font>**<br>\n",
    "$f(x)=\\sqrt{3x}\\cdot\\ln{x}$<br>\n",
    "$f'(x)=((3x)^{\\frac{1}{2}}\\cdot\\ln{x})'=\\frac{3}{2\\sqrt{3x}}\\cdot\\ln{x}+\\frac{\\sqrt{3x}}{x}=\\frac{\\ln{x}\\cdot\\sqrt{3x}}{2x}+\\frac{2\\cdot\\sqrt{3x}}{2x}=\\frac{\\sqrt{3x}\\cdot(\\ln{x}+2)}{2x}$<br>\n",
    "$f'(x_0)=f'(1)=\\frac{\\sqrt{3}\\cdot(\\ln{1}+2)}{2}=\\sqrt{3}$<br>\n",
    "$\\Rightarrow$ тангенс угла наклона касательной к графику в точке $x_0=1$ равен $\\sqrt{3}$ $\\Rightarrow$ угол наклона касательной равен $60^{\\circ}$"
   ]
  },
  {
   "cell_type": "code",
   "execution_count": 10,
   "metadata": {},
   "outputs": [
    {
     "name": "stdout",
     "output_type": "stream",
     "text": [
      "f'(x)=sqrt(3)*(log(x) + 2)/(2*sqrt(x))\n"
     ]
    }
   ],
   "source": [
    "# Численное решение\n",
    "f = sym.sqrt(3*x)*sym.ln(x)\n",
    "df = sym.diff(f, x)\n",
    "print(f\"f'(x)={sym.simplify(df)}\")"
   ]
  },
  {
   "cell_type": "code",
   "execution_count": 11,
   "metadata": {},
   "outputs": [
    {
     "name": "stdout",
     "output_type": "stream",
     "text": [
      "Значение производной в точке 1: 1.7320508075688772\n",
      "Угол наклона касательной: 60.00000000000001\n"
     ]
    }
   ],
   "source": [
    "def func_4(t):\n",
    "    return sqrt(3)*(log(t) + 2)/(2*sqrt(t))\n",
    "print(f'Значение производной в точке 1: {func_4(1)}')\n",
    "print(f'Угол наклона касательной: {degrees(atan(func_4(1)))}')"
   ]
  },
  {
   "cell_type": "code",
   "execution_count": 12,
   "metadata": {},
   "outputs": [
    {
     "data": {
      "image/png": "[encoded data removed]",
      "text/plain": [
       "<Figure size 720x720 with 1 Axes>"
      ]
     },
     "metadata": {
      "needs_background": "light"
     },
     "output_type": "display_data"
    }
   ],
   "source": [
    "x_g = np.linspace(0, 2, 1001)\n",
    "y_g = np.sqrt(3*x_g)*np.log(x_g)\n",
    "k_g = np.tan(np.pi/3)*(x_g-1)\n",
    "plt.figure(figsize=(10,10))\n",
    "plt.plot(x_g, y_g, label='$\\sqrt{3x}\\cdot\\ln{x}$', c='g')\n",
    "plt.plot(x_g, k_g, label='касательная в $x=1$ под $60^{\\circ}$', c='black')\n",
    "plt.plot([-1, 2], [0, 0], color='r', linestyle='--', alpha=0.5)\n",
    "plt.plot([0, 0], [-2, 2], color='r', linestyle='--', alpha=0.5)\n",
    "plt.plot([1, 1], [-2, 2], color='b', linestyle='--', alpha=0.5)\n",
    "plt.axis([-1, 1.5, -1.5, 0.5])\n",
    "plt.legend()\n",
    "plt.grid()\n",
    "plt.show()"
   ]
  },
  {
   "cell_type": "markdown",
   "metadata": {},
   "source": [
    "**<font color='darkblue'>Ответ: $60^{\\circ}$</font>**"
   ]
  },
  {
   "cell_type": "code",
   "execution_count": null,
   "metadata": {},
   "outputs": [],
   "source": []
  }
 ],
 "metadata": {
  "kernelspec": {
   "display_name": "Python 3",
   "language": "python",
   "name": "python3"
  },
  "language_info": {
   "codemirror_mode": {
    "name": "ipython",
    "version": 3
   },
   "file_extension": ".py",
   "mimetype": "text/x-python",
   "name": "python",
   "nbconvert_exporter": "python",
   "pygments_lexer": "ipython3",
   "version": "3.7.3"
  }
 },
 "nbformat": 4,
 "nbformat_minor": 2
}
